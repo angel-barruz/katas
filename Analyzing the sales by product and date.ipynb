{
 "cells": [
  {
   "cell_type": "code",
   "execution_count": null,
   "id": "b1281f17",
   "metadata": {},
   "outputs": [],
   "source": [
    "select p.name as product_name, \n",
    "extract('year' from s.date)::integer as year,\n",
    "extract('month' from s.date)::integer as month,\n",
    "extract('day' from s.date)::integer  as day,\n",
    "sum(sd.count * p.price) as total\n",
    "\n",
    "from\n",
    "  products as p\n",
    "  inner join sales_details as sd\n",
    "    on p.id = sd.product_id\n",
    "  inner join sales as s\n",
    "    on sd.sale_id = s.id\n",
    "group by p.name, rollup(year,month,day)\n",
    "order by p.name, year, month, day\n"
   ]
  }
 ],
 "metadata": {
  "kernelspec": {
   "display_name": "Python [conda env:m1_ih]",
   "language": "python",
   "name": "conda-env-m1_ih-py"
  },
  "language_info": {
   "codemirror_mode": {
    "name": "ipython",
    "version": 3
   },
   "file_extension": ".py",
   "mimetype": "text/x-python",
   "name": "python",
   "nbconvert_exporter": "python",
   "pygments_lexer": "ipython3",
   "version": "3.9.12"
  }
 },
 "nbformat": 4,
 "nbformat_minor": 5
}
