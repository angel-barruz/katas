{
 "cells": [
  {
   "cell_type": "markdown",
   "source": "### Code Snippet",
   "metadata": {
    "cell_id": "7e5479763d8c43a9bbf28c9b77afe87f",
    "tags": [],
    "deepnote_cell_type": "markdown",
    "deepnote_cell_height": 62
   }
  },
  {
   "cell_type": "code",
   "metadata": {
    "cell_id": "14d9799458b74012b7593b327cf56ddb",
    "tags": [],
    "allow_embed": "code",
    "deepnote_to_be_reexecuted": false,
    "source_hash": "14985a2c",
    "execution_start": 1663137060109,
    "execution_millis": 19,
    "output_cleared": true,
    "deepnote_cell_type": "code",
    "deepnote_cell_height": 346
   },
   "source": "# Login to linkedin\n\ndriver = Chrome(\"./driver/chromedriver.exe\")\ndriver.get(\"https://www.linkedin.com/login\")\n\nusername = get_element(By.CSS_SELECTOR, \"input[name='session_key']\")\npassword = get_element(By.CSS_SELECTOR, \"input[name='session_password']\")\n\nusername.clear()\npassword.clear()\n\nusername.send_keys(username)\npassword.send_keys(password)\n\nsubmit = get_element(By.CSS_SELECTOR, \"button[class='btn__primary--large from__button--floating']\")\nsubmit.click()",
   "execution_count": null,
   "outputs": []
  },
  {
   "cell_type": "code",
   "metadata": {
    "tags": [],
    "cell_id": "81bcae63-b52f-453a-aa66-509295012417",
    "allow_embed": "code",
    "deepnote_to_be_reexecuted": false,
    "source_hash": "b97e185",
    "execution_start": 1663137061247,
    "execution_millis": 908,
    "output_cleared": true,
    "deepnote_cell_type": "code",
    "deepnote_cell_height": 585
   },
   "source": "with open(prifile_page, 'r', encoding='utf-8') as f:\n    soup = BeautifulSoup(f, features='lxml')\n\n    experiences = soup.find_all(\"a\", {\"data-field\": \"experience_company_logo\", \"class\": \"optional-action-target-wrapper display-flex\"})\n    \n    experience_list = []\n    for exp_tag in experience_tags:\n        experience_div = exp_tag.parent.parent\n        job_title = experience_div.find(\"div\", class_=\"display-flex align-items-center\").span.span\n        company = experience_div.find(\"span\", class_=\"t-14 t-normal\").span\n        duration = experience_div.find(\"span\", class_=\"t-14 t-normal t-black--light\").span\n\n        job_title = re.search(r_expression, str(job_title)).group(0)\n        company = re.search(r_expression, str(company)).group(0)\n        duration = re.search(r_expression, str(duration)).group(0)\n\n        experience_list.append(\n            {\n                \"job_title\": job_title.strip(),\n                \"company\": company.split('·')[0].strip() if '·' in company else company,\n                \"job_type\": company.split('·')[1].strip() if '·' in company else None,\n                \"job_duration\": duration.split('·')[-1].strip(),\n                \"order\": order\n            }\n        )\n\n    df_experience = pd.DataFrame(data=experience_list)\n    df_experience.to_csv(\"../scraped_data/experience.csv\", index=False)\n",
   "execution_count": null,
   "outputs": []
  },
  {
   "cell_type": "code",
   "metadata": {
    "cell_id": "46c88fd466614e1ca85da8e140d3ac34",
    "tags": [],
    "deepnote_cell_type": "code",
    "deepnote_cell_height": 61
   },
   "source": "",
   "execution_count": null,
   "outputs": []
  },
  {
   "cell_type": "markdown",
   "source": "<a style='text-decoration:none;line-height:16px;display:flex;color:#5B5B62;padding:10px;justify-content:end;' href='https://deepnote.com?utm_source=created-in-deepnote-cell&projectId=e10ea3a1-7bbf-415b-a1f8-e1884fe5241b' target=\"_blank\">\n<img alt='Created in deepnote.com' style='display:inline;max-height:16px;margin:0px;margin-right:7.5px;' src='data:image/svg+xml;base64,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' > </img>\nCreated in <span style='font-weight:600;margin-left:4px;'>Deepnote</span></a>",
   "metadata": {
    "tags": [],
    "created_in_deepnote_cell": true,
    "deepnote_cell_type": "markdown"
   }
  }
 ],
 "nbformat": 4,
 "nbformat_minor": 2,
 "metadata": {
  "orig_nbformat": 2,
  "deepnote": {},
  "deepnote_notebook_id": "3a267e77-a506-459b-9bf0-7d598c685292",
  "deepnote_execution_queue": []
 }
}