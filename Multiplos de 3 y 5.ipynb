{
 "cells": [
  {
   "cell_type": "code",
   "execution_count": 1,
   "id": "694dc7be",
   "metadata": {},
   "outputs": [],
   "source": [
    "def solution(n):\n",
    "    lista =[]\n",
    "    for i in range(n):\n",
    "        if(i%3 == 0) or (i%5 == 0):\n",
    "            lista.append(i)\n",
    "    return sum (lista)"
   ]
  },
  {
   "cell_type": "code",
   "execution_count": null,
   "id": "7f7d7297",
   "metadata": {},
   "outputs": [],
   "source": []
  }
 ],
 "metadata": {
  "kernelspec": {
   "display_name": "Python [conda env:m1_ih]",
   "language": "python",
   "name": "conda-env-m1_ih-py"
  },
  "language_info": {
   "codemirror_mode": {
    "name": "ipython",
    "version": 3
   },
   "file_extension": ".py",
   "mimetype": "text/x-python",
   "name": "python",
   "nbconvert_exporter": "python",
   "pygments_lexer": "ipython3",
   "version": "3.9.12"
  }
 },
 "nbformat": 4,
 "nbformat_minor": 5
}
