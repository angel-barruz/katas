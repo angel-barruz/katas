{
 "cells": [
  {
   "cell_type": "code",
   "execution_count": null,
   "id": "942c6263",
   "metadata": {},
   "outputs": [],
   "source": [
    "SELECT c.id category_id, c.category, p.title, p.views, p.id post_id\n",
    "FROM categories c\n",
    "LEFT JOIN LATERAL( \n",
    "    SELECT title, views, id\n",
    "    FROM posts\n",
    "    WHERE category_id = c.id\n",
    "    ORDER BY views DESC\n",
    "    LIMIT 2) p ON true\n",
    "ORDER BY 2, 4 DESC, 5;"
   ]
  }
 ],
 "metadata": {
  "kernelspec": {
   "display_name": "Python [conda env:p_01]",
   "language": "python",
   "name": "conda-env-p_01-py"
  },
  "language_info": {
   "codemirror_mode": {
    "name": "ipython",
    "version": 3
   },
   "file_extension": ".py",
   "mimetype": "text/x-python",
   "name": "python",
   "nbconvert_exporter": "python",
   "pygments_lexer": "ipython3",
   "version": "3.9.12"
  }
 },
 "nbformat": 4,
 "nbformat_minor": 5
}
