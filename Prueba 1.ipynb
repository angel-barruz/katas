{
 "cells": [
  {
   "cell_type": "code",
   "execution_count": null,
   "id": "ae3ce973",
   "metadata": {},
   "outputs": [],
   "source": [
    "lista=[]"
   ]
  },
  {
   "cell_type": "code",
   "execution_count": null,
   "id": "aa45b7f4",
   "metadata": {},
   "outputs": [],
   "source": [
    "print(type(lista))"
   ]
  },
  {
   "cell_type": "code",
   "execution_count": null,
   "id": "0de13242",
   "metadata": {},
   "outputs": [],
   "source": [
    "vocales = 'aeiou'\n",
    "print(type(vocales))"
   ]
  },
  {
   "cell_type": "code",
   "execution_count": null,
   "id": "2b47db1a",
   "metadata": {},
   "outputs": [],
   "source": [
    "print(len(vocales))"
   ]
  },
  {
   "cell_type": "code",
   "execution_count": null,
   "id": "5362a3cd",
   "metadata": {},
   "outputs": [],
   "source": [
    "def recuento():   \n",
    "    vocales = 'aeiou'\n",
    "    lista=[]\n",
    "    for i in vocales:\n",
    "        lista.append(i)\n",
    "    return(len(lista)) "
   ]
  },
  {
   "cell_type": "code",
   "execution_count": null,
   "id": "f7f35b45",
   "metadata": {},
   "outputs": [],
   "source": [
    "print(type(lista))"
   ]
  },
  {
   "cell_type": "code",
   "execution_count": null,
   "id": "dd65bb3a",
   "metadata": {},
   "outputs": [],
   "source": [
    "def saludo():\n",
    "    print('¡Hola amiga!')\n",
    "    return"
   ]
  },
  {
   "cell_type": "code",
   "execution_count": null,
   "id": "60c8f03a",
   "metadata": {},
   "outputs": [],
   "source": [
    "saludo()"
   ]
  },
  {
   "cell_type": "code",
   "execution_count": null,
   "id": "4f4f8df1",
   "metadata": {},
   "outputs": [],
   "source": [
    "nombre = input('Escriba nombre')"
   ]
  },
  {
   "cell_type": "code",
   "execution_count": 20,
   "id": "a658d85e",
   "metadata": {},
   "outputs": [
    {
     "ename": "SyntaxError",
     "evalue": "invalid syntax (1176503839.py, line 2)",
     "output_type": "error",
     "traceback": [
      "\u001b[1;36m  Input \u001b[1;32mIn [20]\u001b[1;36m\u001b[0m\n\u001b[1;33m    print('¡Hola' + ' ' + i '!')\u001b[0m\n\u001b[1;37m                            ^\u001b[0m\n\u001b[1;31mSyntaxError\u001b[0m\u001b[1;31m:\u001b[0m invalid syntax\n"
     ]
    }
   ],
   "source": [
    "def saludo2(i,x):\n",
    "    print('¡Hola' + ' ' + i '!')\n",
    "    print('¡Hola' + ' ' + x '!')\n",
    "    return \n",
    "saludo2('Angel','Irene')\n"
   ]
  },
  {
   "cell_type": "code",
   "execution_count": null,
   "id": "16a21bc7",
   "metadata": {},
   "outputs": [],
   "source": [
    "print(type(nombre))"
   ]
  },
  {
   "cell_type": "code",
   "execution_count": null,
   "id": "8ccdf45d",
   "metadata": {},
   "outputs": [],
   "source": [
    "def calculo(n):\n",
    "    x=1\n",
    "    for i in range(n):\n",
    "        x *= i+1\n",
    "    return x"
   ]
  },
  {
   "cell_type": "code",
   "execution_count": null,
   "id": "c2e50fed",
   "metadata": {},
   "outputs": [],
   "source": [
    "calculo(4)"
   ]
  },
  {
   "cell_type": "code",
   "execution_count": null,
   "id": "c4027ba3",
   "metadata": {},
   "outputs": [],
   "source": [
    "def IVA(x,y):\n",
    "    x=float\n",
    "    y=x+(x*21/100)\n",
    "return(x*y)"
   ]
  },
  {
   "cell_type": "code",
   "execution_count": 27,
   "id": "622a7f8e",
   "metadata": {},
   "outputs": [],
   "source": [
    "def IVA(x):\n",
    "    op=x+(x*21/100)\n",
    "    return(op)\n",
    "    #return()"
   ]
  },
  {
   "cell_type": "code",
   "execution_count": 28,
   "id": "ebe89dde",
   "metadata": {},
   "outputs": [
    {
     "data": {
      "text/plain": [
       "605.0"
      ]
     },
     "execution_count": 28,
     "metadata": {},
     "output_type": "execute_result"
    }
   ],
   "source": [
    "IVA(500)"
   ]
  },
  {
   "cell_type": "code",
   "execution_count": null,
   "id": "e1f3b560",
   "metadata": {},
   "outputs": [],
   "source": []
  }
 ],
 "metadata": {
  "kernelspec": {
   "display_name": "Python [conda env:m1_ih]",
   "language": "python",
   "name": "conda-env-m1_ih-py"
  },
  "language_info": {
   "codemirror_mode": {
    "name": "ipython",
    "version": 3
   },
   "file_extension": ".py",
   "mimetype": "text/x-python",
   "name": "python",
   "nbconvert_exporter": "python",
   "pygments_lexer": "ipython3",
   "version": "3.9.12"
  }
 },
 "nbformat": 4,
 "nbformat_minor": 5
}
